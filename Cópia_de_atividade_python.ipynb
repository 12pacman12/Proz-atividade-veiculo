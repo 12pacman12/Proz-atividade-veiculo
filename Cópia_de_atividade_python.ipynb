{
  "nbformat": 4,
  "nbformat_minor": 0,
  "metadata": {
    "colab": {
      "provenance": [],
      "authorship_tag": "ABX9TyMQNrM1oP9x3/flR+8y/Sy1",
      "include_colab_link": true
    },
    "kernelspec": {
      "name": "python3",
      "display_name": "Python 3"
    },
    "language_info": {
      "name": "python"
    }
  },
  "cells": [
    {
      "cell_type": "markdown",
      "metadata": {
        "id": "view-in-github",
        "colab_type": "text"
      },
      "source": [
        "<a href=\"https://colab.research.google.com/github/12pacman12/Proz-atividade-veiculo/blob/main/C%C3%B3pia_de_atividade_python.ipynb\" target=\"_parent\"><img src=\"https://colab.research.google.com/assets/colab-badge.svg\" alt=\"Open In Colab\"/></a>"
      ]
    },
    {
      "cell_type": "code",
      "execution_count": null,
      "metadata": {
        "id": "Zk-ij_vdayE3"
      },
      "outputs": [],
      "source": [
        "rodas = int(input(\" qual a quantidade de rodas: ? \"))\n",
        "peso = float(input(\"Qual o peso do veículo em kg: ?\"))\n",
        "pessoas = int(input(\" deseja um veículo para quantas pessoas: ?\"))\n",
        "\n",
        "if rodas <= 3 :\n",
        "  print(\" Habilitação categoria A\")\n",
        "elif rodas == 4 and (peso <= 3500) and (pessoas <= 8):\n",
        "  print(\"Habilitação categoria B\")\n",
        "\n",
        "elif rodas >= 4 and (peso > 3500 < 6000) and (pessoas <= 8):\n",
        "  print(\"Habilitação categoria C\")\n",
        "\n",
        "elif rodas >= 4 and (peso < 6000) and (pessoas > 8):\n",
        "  print(\"Habilitação categoria D\")\n",
        "elif rodas >= 4 and (peso >= 6000): \n",
        "  print(\"Habilitação categoria E\")\n",
        "else:\n",
        "  print(\" valor fora de parametro \")\n"
      ]
    },
    {
      "cell_type": "code",
      "source": [],
      "metadata": {
        "id": "-FrnNE_lUWy3"
      },
      "execution_count": null,
      "outputs": []
    }
  ]
}