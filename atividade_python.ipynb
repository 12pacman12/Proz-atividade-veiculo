{
  "nbformat": 4,
  "nbformat_minor": 0,
  "metadata": {
    "colab": {
      "provenance": [],
      "authorship_tag": "ABX9TyM12THNjs0Wl/nyASCrIYZn",
      "include_colab_link": true
    },
    "kernelspec": {
      "name": "python3",
      "display_name": "Python 3"
    },
    "language_info": {
      "name": "python"
    }
  },
  "cells": [
    {
      "cell_type": "markdown",
      "metadata": {
        "id": "view-in-github",
        "colab_type": "text"
      },
      "source": [
        "<a href=\"https://colab.research.google.com/github/12pacman12/Proz-atividade-veiculo/blob/main/atividade_python.ipynb\" target=\"_parent\"><img src=\"https://colab.research.google.com/assets/colab-badge.svg\" alt=\"Open In Colab\"/></a>"
      ]
    },
    {
      "cell_type": "code",
      "execution_count": 1,
      "metadata": {
        "id": "Zk-ij_vdayE3",
        "colab": {
          "base_uri": "https://localhost:8080/"
        },
        "outputId": "ec97eadc-6c59-4c98-a5b9-ac201016a7ab"
      },
      "outputs": [
        {
          "name": "stdout",
          "output_type": "stream",
          "text": [
            " qual a quantidade de rodas: ? 6\n",
            "Qual o peso do veículo em kg: ?3500\n",
            " deseja um veículo para quantas pessoas: ?1\n"
          ]
        }
      ],
      "source": [
        "rodas = int(input(\" qual a quantidade de rodas: ? \"))\n",
        "peso = float(input(\"Qual o peso do veículo em kg: ?\"))\n",
        "pessoas = int(input(\" deseja um veículo para quantas pessoas: ?\"))\n",
        "\n",
        "if rodas <= 3 and (peso <= 200) and (pessoas <= 3): \n",
        "  print(\" Habilitação categoria A\")\n",
        "elif rodas == 4 and (peso <= 3500) and (pessoas == 4):\n",
        "  print(\"Habilitação categoria B\")\n",
        "\n",
        "elif rodas <= 4 and (peso > 3500 < 6000) and (pessoas <= 8):\n",
        "  print(\"Habilitação categoria C\")\n",
        "\n",
        "elif rodas == 4 and (peso > 3500 < 6000) and (pessoas <= 8):\n",
        "  print(\"Habilitação categoria D\")\n",
        "elif rodas <= 4 and (peso <= 6000) and (pessoas <= 8): \n",
        "  print(\"Habilitação categoria E\")\n",
        "   
        "   \n",
        "   \n",
        "    \n",
        "\n"
      ]
    }
  ]
}
